{
  "cells": [
    {
      "cell_type": "markdown",
      "metadata": {
        "id": "pGWIV_nXhJ40"
      },
      "source": [
        "# Logistic Regression\n",
        "## Introduction\n",
        "\n",
        "In this notebook we are going to study gradient descent and in this case applied to logistic regression.\n",
        "Logistic regression (LR) is a statistical method for analysing datasets where there are one of more independent variables that determine the outcome. The outcome is a dichotomous, meaning there are only two possible outcomes (1 / 0, Yes / No, True / False). For instance, if you want to predict the sex of a person from age ($x_1$) and income ($x_2$), the logistic regression model would be\n",
        "\n",
        "$$ h(x) = \\theta_0 + \\theta_1x_1 + \\theta_2 x_2 $$\n",
        "\n",
        "where $h(x)$ is the outcome varibale, $\\theta_0$ the bias and $\\theta_1$ and $\\theta_2$ the weights. The goal is ultimately to tune these parameters with respect to the obeserved data ($x_1$,$x_2$).\n",
        "\n",
        "LR estimates a probability (between 0 and 100%) but $h(x)$ gives values in $(-\\infty, +\\infty)$. We need to \"squish\" $h(x)$ to restrict it to a suitable range. LR commonly uses the logistic function (a.k.a. sigmoid function) to compute probabilities:\n",
        "\n",
        "$$ \\sigma(h(x)) = \\frac{1}{1+e^{-h(x)}}. $$\n",
        "\n",
        "It is possible to threshold the logistic function (values between 0-1), and values below 0.5 will be counted as the prediction of class 0 and values larger than 0.5 results in the prediction of class 1.\n",
        "\n",
        "The full logistic regression model is then:\n",
        "\n",
        "$$ z(x) = \\sigma(h(x)) = \\frac{1}{1+e^{-(\\theta_0 + \\theta_1x_1 + \\theta_2 x_2)}}. $$"
      ]
    },
    {
      "cell_type": "markdown",
      "metadata": {
        "id": "fpjaAefyhJ40"
      },
      "source": [
        "# Ready, steady, code! 🚀\n",
        "\n",
        "Let's start with loading some data, scikit-learn comes with a couple of toy datasets and we are going to use the \"iris\" dataset where the goal is to classify which type of flower based on a set of features consisting of sepal length (cm), sepal width (cm), petal length (cm), petal width (cm). To begin with we consider only two of those features."
      ]
    },
    {
      "cell_type": "code",
      "source": [
        "!pip install numpy==1.19.4\n",
        "!pip install matplotlib==3.3.3\n",
        "!pip install scikit-learn==0.24.0"
      ],
      "metadata": {
        "colab": {
          "base_uri": "https://localhost:8080/",
          "height": 1000
        },
        "id": "YM8hNsec5yme",
        "outputId": "70c7a560-e154-477f-af0c-c1aff956f0f7"
      },
      "execution_count": null,
      "outputs": [
        {
          "output_type": "stream",
          "name": "stdout",
          "text": [
            "Collecting numpy==1.19.4\n",
            "  Downloading numpy-1.19.4.zip (7.3 MB)\n",
            "\u001b[2K     \u001b[90m━━━━━━━━━━━━━━━━━━━━━━━━━━━━━━━━━━━━━━━━\u001b[0m \u001b[32m7.3/7.3 MB\u001b[0m \u001b[31m14.5 MB/s\u001b[0m eta \u001b[36m0:00:00\u001b[0m\n",
            "\u001b[?25h  Installing build dependencies ... \u001b[?25l\u001b[?25hdone\n",
            "  Getting requirements to build wheel ... \u001b[?25l\u001b[?25hdone\n",
            "  Preparing metadata (pyproject.toml) ... \u001b[?25l\u001b[?25hdone\n",
            "Building wheels for collected packages: numpy\n",
            "  \u001b[1;31merror\u001b[0m: \u001b[1msubprocess-exited-with-error\u001b[0m\n",
            "  \n",
            "  \u001b[31m×\u001b[0m \u001b[32mBuilding wheel for numpy \u001b[0m\u001b[1;32m(\u001b[0m\u001b[32mpyproject.toml\u001b[0m\u001b[1;32m)\u001b[0m did not run successfully.\n",
            "  \u001b[31m│\u001b[0m exit code: \u001b[1;36m1\u001b[0m\n",
            "  \u001b[31m╰─>\u001b[0m See above for output.\n",
            "  \n",
            "  \u001b[1;35mnote\u001b[0m: This error originates from a subprocess, and is likely not a problem with pip.\n",
            "  Building wheel for numpy (pyproject.toml) ... \u001b[?25l\u001b[?25herror\n",
            "\u001b[31m  ERROR: Failed building wheel for numpy\u001b[0m\u001b[31m\n",
            "\u001b[0mFailed to build numpy\n",
            "\u001b[31mERROR: Could not build wheels for numpy, which is required to install pyproject.toml-based projects\u001b[0m\u001b[31m\n",
            "\u001b[0mCollecting matplotlib==3.3.3\n",
            "  Downloading matplotlib-3.3.3.tar.gz (37.9 MB)\n",
            "\u001b[2K     \u001b[90m━━━━━━━━━━━━━━━━━━━━━━━━━━━━━━━━━━━━━━━━\u001b[0m \u001b[32m37.9/37.9 MB\u001b[0m \u001b[31m22.4 MB/s\u001b[0m eta \u001b[36m0:00:00\u001b[0m\n",
            "\u001b[?25h  Preparing metadata (setup.py) ... \u001b[?25l\u001b[?25hdone\n",
            "Requirement already satisfied: cycler>=0.10 in /usr/local/lib/python3.10/dist-packages (from matplotlib==3.3.3) (0.12.1)\n",
            "Requirement already satisfied: kiwisolver>=1.0.1 in /usr/local/lib/python3.10/dist-packages (from matplotlib==3.3.3) (1.4.5)\n",
            "Requirement already satisfied: numpy>=1.15 in /usr/local/lib/python3.10/dist-packages (from matplotlib==3.3.3) (1.23.5)\n",
            "Requirement already satisfied: pillow>=6.2.0 in /usr/local/lib/python3.10/dist-packages (from matplotlib==3.3.3) (9.4.0)\n",
            "Requirement already satisfied: pyparsing!=2.0.4,!=2.1.2,!=2.1.6,>=2.0.3 in /usr/local/lib/python3.10/dist-packages (from matplotlib==3.3.3) (3.1.1)\n",
            "Requirement already satisfied: python-dateutil>=2.1 in /usr/local/lib/python3.10/dist-packages (from matplotlib==3.3.3) (2.8.2)\n",
            "Requirement already satisfied: six>=1.5 in /usr/local/lib/python3.10/dist-packages (from python-dateutil>=2.1->matplotlib==3.3.3) (1.16.0)\n",
            "Building wheels for collected packages: matplotlib\n",
            "  Building wheel for matplotlib (setup.py) ... \u001b[?25l\u001b[?25hdone\n",
            "  Created wheel for matplotlib: filename=matplotlib-3.3.3-cp310-cp310-linux_x86_64.whl size=11727870 sha256=c14fe0daa496bf950d0234cc2bda957594d0b0e9f57dba46c249893c6302e697\n",
            "  Stored in directory: /root/.cache/pip/wheels/33/5f/fa/7686ebdceeeb90490e122e35f2a9e6c09affb891787d0921a6\n",
            "Successfully built matplotlib\n",
            "Installing collected packages: matplotlib\n",
            "  Attempting uninstall: matplotlib\n",
            "    Found existing installation: matplotlib 3.7.1\n",
            "    Uninstalling matplotlib-3.7.1:\n",
            "      Successfully uninstalled matplotlib-3.7.1\n",
            "\u001b[31mERROR: pip's dependency resolver does not currently take into account all the packages that are installed. This behaviour is the source of the following dependency conflicts.\n",
            "lida 0.0.10 requires fastapi, which is not installed.\n",
            "lida 0.0.10 requires kaleido, which is not installed.\n",
            "lida 0.0.10 requires python-multipart, which is not installed.\n",
            "lida 0.0.10 requires uvicorn, which is not installed.\n",
            "mizani 0.9.3 requires matplotlib>=3.5.0, but you have matplotlib 3.3.3 which is incompatible.\n",
            "plotnine 0.12.4 requires matplotlib>=3.6.0, but you have matplotlib 3.3.3 which is incompatible.\n",
            "seaborn 0.13.1 requires matplotlib!=3.6.1,>=3.4, but you have matplotlib 3.3.3 which is incompatible.\u001b[0m\u001b[31m\n",
            "\u001b[0mSuccessfully installed matplotlib-3.3.3\n"
          ]
        },
        {
          "output_type": "display_data",
          "data": {
            "application/vnd.colab-display-data+json": {
              "pip_warning": {
                "packages": [
                  "matplotlib",
                  "mpl_toolkits"
                ]
              }
            }
          },
          "metadata": {}
        },
        {
          "output_type": "stream",
          "name": "stdout",
          "text": [
            "Collecting scikit-learn==0.24.0\n",
            "  Downloading scikit-learn-0.24.0.tar.gz (7.4 MB)\n",
            "\u001b[2K     \u001b[90m━━━━━━━━━━━━━━━━━━━━━━━━━━━━━━━━━━━━━━━━\u001b[0m \u001b[32m7.4/7.4 MB\u001b[0m \u001b[31m20.2 MB/s\u001b[0m eta \u001b[36m0:00:00\u001b[0m\n",
            "\u001b[?25h  Installing build dependencies ... \u001b[?25l\u001b[?25hdone\n",
            "  Getting requirements to build wheel ... \u001b[?25l\u001b[?25hdone\n",
            "  Preparing metadata (pyproject.toml) ... \u001b[?25l\u001b[?25hdone\n",
            "Requirement already satisfied: numpy>=1.13.3 in /usr/local/lib/python3.10/dist-packages (from scikit-learn==0.24.0) (1.23.5)\n",
            "Requirement already satisfied: scipy>=0.19.1 in /usr/local/lib/python3.10/dist-packages (from scikit-learn==0.24.0) (1.11.4)\n",
            "Requirement already satisfied: joblib>=0.11 in /usr/local/lib/python3.10/dist-packages (from scikit-learn==0.24.0) (1.3.2)\n",
            "Requirement already satisfied: threadpoolctl>=2.0.0 in /usr/local/lib/python3.10/dist-packages (from scikit-learn==0.24.0) (3.2.0)\n",
            "Building wheels for collected packages: scikit-learn\n",
            "  \u001b[1;31merror\u001b[0m: \u001b[1msubprocess-exited-with-error\u001b[0m\n",
            "  \n",
            "  \u001b[31m×\u001b[0m \u001b[32mBuilding wheel for scikit-learn \u001b[0m\u001b[1;32m(\u001b[0m\u001b[32mpyproject.toml\u001b[0m\u001b[1;32m)\u001b[0m did not run successfully.\n",
            "  \u001b[31m│\u001b[0m exit code: \u001b[1;36m1\u001b[0m\n",
            "  \u001b[31m╰─>\u001b[0m See above for output.\n",
            "  \n",
            "  \u001b[1;35mnote\u001b[0m: This error originates from a subprocess, and is likely not a problem with pip.\n",
            "  Building wheel for scikit-learn (pyproject.toml) ... \u001b[?25l\u001b[?25herror\n",
            "\u001b[31m  ERROR: Failed building wheel for scikit-learn\u001b[0m\u001b[31m\n",
            "\u001b[0mFailed to build scikit-learn\n",
            "\u001b[31mERROR: Could not build wheels for scikit-learn, which is required to install pyproject.toml-based projects\u001b[0m\u001b[31m\n",
            "\u001b[0m"
          ]
        }
      ]
    },
    {
      "cell_type": "code",
      "execution_count": null,
      "metadata": {
        "ExecuteTime": {
          "end_time": "2021-01-19T07:50:41.692245Z",
          "start_time": "2021-01-19T07:50:41.685547Z"
        },
        "id": "Xe82xz_qhJ41"
      },
      "outputs": [],
      "source": [
        "# import stuff that we need\n",
        "import numpy as np\n",
        "import matplotlib as mpl\n",
        "import matplotlib.pyplot as plt\n",
        "import sklearn\n",
        "import sklearn.datasets as ds\n",
        "from IPython.display import clear_output # if you get problem with this import you can skip it, it is used to print the cost later which can be skipped"
      ]
    },
    {
      "cell_type": "code",
      "execution_count": null,
      "metadata": {
        "ExecuteTime": {
          "end_time": "2021-01-19T07:52:28.766916Z",
          "start_time": "2021-01-19T07:52:28.757691Z"
        },
        "id": "hJgp1DhchJ41"
      },
      "outputs": [],
      "source": [
        "assert np.__version__ == \"1.19.4\", \"Looks like you don't have the same version of numpy as us!\"\n",
        "assert mpl.__version__ == \"3.3.3\", \"Looks like you don't have the same version of matplotlib as us!\"\n",
        "assert sklearn.__version__ == \"0.24.0\", \"Looks like you don't have the same version of sklearn as us!\""
      ]
    },
    {
      "cell_type": "code",
      "execution_count": null,
      "metadata": {
        "ExecuteTime": {
          "end_time": "2021-01-19T07:52:33.179008Z",
          "start_time": "2021-01-19T07:52:33.151459Z"
        },
        "id": "usRpp3jhhJ41"
      },
      "outputs": [],
      "source": [
        "data = ds.load_iris()\n",
        "\n",
        "selected_features_idx = [0,1] #'sepal length (cm)', 'sepal width (cm)'\n",
        "selected_targets = [0,1] #'setosa' 'versicolor'\n",
        "\n",
        "idx = np.array([x in selected_targets for x in data.target])\n",
        "x = data.data[:,selected_features_idx][idx]\n",
        "y = data.target[idx]\n",
        "y[y > 1] = 1 # Reset labels greater than 1 to 1"
      ]
    },
    {
      "cell_type": "code",
      "execution_count": null,
      "metadata": {
        "ExecuteTime": {
          "end_time": "2021-01-19T07:52:46.508713Z",
          "start_time": "2021-01-19T07:52:46.172908Z"
        },
        "colab": {
          "base_uri": "https://localhost:8080/",
          "height": 433
        },
        "id": "jPbds-XLhJ41",
        "outputId": "e0a34427-85fb-4184-9dd2-03d96fd81739"
      },
      "outputs": [
        {
          "output_type": "display_data",
          "data": {
            "text/plain": [
              "<Figure size 640x480 with 1 Axes>"
            ],
            "image/png": "[encoded data removed]"
          },
          "metadata": {}
        }
      ],
      "source": [
        "plt.figure()\n",
        "for label in np.unique(y):\n",
        "    plt.scatter(x[:, 0][y == label], x[:, 1][y == label], label = data.target_names[label])\n",
        "plt.legend()\n",
        "plt.show()"
      ]
    },
    {
      "cell_type": "markdown",
      "metadata": {
        "id": "isBeM47chJ41"
      },
      "source": [
        "Now we need a function that predicts the logistic regression model and make predictions. This function takes a measurement, the current bias and the weights as input.\n",
        "\n",
        "$$ z(x) = \\frac{1}{1+e^{-(\\theta_0 + \\theta_1x_1 + \\theta_2x_2)}} $$\n"
      ]
    },
    {
      "cell_type": "code",
      "execution_count": null,
      "metadata": {
        "id": "7eMde7IHhJ41"
      },
      "outputs": [],
      "source": [
        "def z_x(x, bias, weights):\n",
        "    \"\"\" param x: vector containing measurements. x = [x1, x2]\n",
        "        param bias: single value\n",
        "        param weight: vector containing model weights. weights= [w1,w2]\n",
        "\n",
        "        return: value of logistic regression model for defined x, bias and weights\n",
        "    \"\"\"\n",
        "    linear_combination = bias\n",
        "    for i in range(len(x)):\n",
        "        linear_combination += x[i] * weights[i]\n",
        "\n",
        "    logistic_value = 1 / (1 + 2.71828**(-linear_combination))\n",
        "\n",
        "    return logistic_value"
      ]
    },
    {
      "cell_type": "markdown",
      "metadata": {
        "id": "ToTGOoiahJ42"
      },
      "source": [
        "Now try it with some random weights and bias."
      ]
    },
    {
      "cell_type": "code",
      "execution_count": null,
      "metadata": {
        "colab": {
          "base_uri": "https://localhost:8080/"
        },
        "id": "P6A_237RhJ42",
        "outputId": "20b7415f-086f-4e7a-9719-aa8abdc653a6"
      },
      "outputs": [
        {
          "output_type": "stream",
          "name": "stdout",
          "text": [
            "Accuracy:  0.5\n"
          ]
        }
      ],
      "source": [
        "bias = np.random.normal()\n",
        "weights = np.random.normal(size = len(x[0]))\n",
        "\n",
        "predicted = []\n",
        "for i in range(len(x)):\n",
        "    yhat = z_x(x[i], bias, weights)\n",
        "    predicted.append(round(yhat))\n",
        "\n",
        "print('Accuracy: ', np.sum(np.equal(y, predicted)) / len(predicted))"
      ]
    },
    {
      "cell_type": "markdown",
      "metadata": {
        "id": "EmVw6wg4hJ42"
      },
      "source": [
        "Let's plot the decision boundary between the points for this set of weights. The decision boundary is found by setting $h(x) = 0$ which gives:\n",
        "\n",
        "$$ x_2 = -\\frac{\\theta_0 + \\theta_1x_1}{\\theta_2} $$"
      ]
    },
    {
      "cell_type": "code",
      "execution_count": null,
      "metadata": {
        "id": "Z8vs2I5dhJ42",
        "colab": {
          "base_uri": "https://localhost:8080/",
          "height": 430
        },
        "outputId": "2db315fc-092b-473c-c369-4c3e0ee39959"
      },
      "outputs": [
        {
          "output_type": "display_data",
          "data": {
            "text/plain": [
              "<Figure size 640x480 with 1 Axes>"
            ],
            "image/png": "[encoded data removed]"
          },
          "metadata": {}
        }
      ],
      "source": [
        "x_values = x[:,0]\n",
        "y_values = - (bias + weights[0]*x_values) / weights[1]\n",
        "\n",
        "plt.figure()\n",
        "plt.scatter(x[:,0][y==0],x[:,1][y==0], label = '0')\n",
        "plt.scatter(x[:,0][y==1],x[:,1][y==1], label = '2')\n",
        "plt.plot(x_values, y_values, label='Decision Boundary')\n",
        "plt.legend()\n",
        "plt.show()"
      ]
    },
    {
      "cell_type": "markdown",
      "metadata": {
        "id": "OZu9UR__hJ42"
      },
      "source": [
        "Not very good (or did you get lucky with the weights?). Try rerunning it a couple of times to see if you can randomly find a better set of weights that improves the accuracy.\n",
        "\n",
        "\n",
        "\n",
        "Now, a better way of finding the optimal weights is the gradient descent method. Gradient descent is an iterative process of minimizing a function by following the gradients of a pre-defined cost function. This is useful for updating and tuning the parameters of our logistic regression model. As gradient descent is an iterative algorithm, we have to repeat the above step until we reach a satisfactory solution. The updates are defined as:\n",
        "\n",
        "$$ \\theta_j \\leftarrow \\theta_j - \\alpha \\frac{\\partial J(\\theta)}{\\partial\\theta_j}, $$\n",
        "\n",
        "and similarily for the bias term\n",
        "\n",
        "$$ \\theta_0 \\leftarrow \\theta_0 - \\alpha \\frac{\\partial J(\\theta)}{\\partial \\theta_o}. $$\n",
        "\n",
        "Where $\\alpha$ is a user specified learning rate, a scalar that controls the step size in the parameter space and $J(\\theta)$ is the cost function that we will now define. Note that to minimize the cost function, we move in the direction opposite to the gradient.\n",
        "\n",
        "First, we need to define our cost function, which is typically the negative log-likelihood of the data for numerical reasons, also called *Binary-Cross-Entropy* loss function. For a binary classification problem with $m$ training examples, where $x^{(i)}$ represents the $i$-th example of our training set and $y^{(i)}$ its output, the cost function is given by:\n",
        "\n",
        "$$\n",
        "J(\\theta)=\\frac{1}{m}\\sum_{i=1}^m\n",
        "\\begin{cases}\n",
        "-log(g(x^{(i)}, \\theta)),& \\text{if } y^{(i)} = 1\\\\\n",
        "-log(1 - g(x^{(i)},\\theta)),& \\text{if } y^{(i)} = 0\n",
        "\\end{cases}\n",
        "$$\n",
        "\n",
        "where $g(x^{(i)},\\theta)$ modelizes $P(y = 1 | x; \\theta)$. Note that we have added $\\theta$ explicitly to the notation to emphasize the dependence on the model parameters.\n",
        "\n",
        "The two functions can be combined into one as:\n",
        "\n",
        "$$ J(\\theta) = -\\frac{1}{m} \\sum_{i=1}^m [y^{(i)} \\log(z_\\theta(x^{(i)})) + (1 - y^{(i)}) \\log(1 - z_\\theta(x^{(i)}))] $$\n",
        "\n",
        "Where $z_θ(x)$ is the sigmoid function, representing the probability that the input $x$ belongs to the positive class.\n",
        "\n",
        "To simplify the notation in the following calculations, we will omit the subindexes; nevertheless, keep in mind that when the cost function is optimized, it is done across all samples in the training dataset.\n",
        "\n",
        "$$ J(\\theta)= -y\\cdot log(z(x)) - (1-y)\\cdot log(1-z(x))$$\n",
        "\n",
        "where $y$ is the target class. The Binary-Cross-Entropy tells us that if the target is 1 and we predict 0, then we will get a large error ($-log(0) = \\infty$) and vice verca ($-log(1 - 1) = -log(0) = \\infty$).\n",
        "\n",
        "For gradient descent we need the derivative of this cost function with respect to the weights $\\frac{\\partial J(\\theta)}{\\partial\\theta_j}$. We can get this with the chain rule:\n",
        "\n",
        "\n",
        "\n",
        "$$\\frac{\\partial J(\\theta)}{\\partial \\theta_j} = \\frac{\\partial J(\\theta)}{\\partial z(x)} \\cdot \\frac{\\partial z(x)}{\\partial h(x)} \\cdot \\frac{\\partial h(x)}{\\partial \\theta_j}$$\n",
        "\n",
        "\n",
        "Where the three derivatives result in:\n",
        "\n",
        "$$\\begin{aligned} \\frac{\\partial J(\\theta)}{\\partial z(x)} &= -\\left(\\frac{y}{z(x)} - \\frac{(1-y)}{(1-z(x))}\\right) \\\\ \\frac{\\partial z(x)}{\\partial h(x)} &= z(x)\\cdot(1-z(x)) \\\\ \\frac{\\partial h(x)}{\\partial \\theta} &=  x \\end{aligned}$$\n",
        "\n",
        "Combining the previous equations together with the previous chain rule gives\n",
        "\n",
        "$$ \\frac{\\partial J(\\theta)}{\\partial\\theta_j} = x_j\\cdot(z(x)-y) $$\n",
        "\n",
        "where $x_j$ is the $j$-th component of $x$.\n",
        "\n",
        "For the bias term the derivative is similar but it is not dependent on $x$ since $\\frac{\\partial h(x)}{\\partial \\theta_0} =  1$\n",
        "\n",
        "$$ \\frac{\\partial J(\\theta)}{\\partial \\theta_0} = z(x)-y $$\n",
        "\n",
        "Finally, recovering the subindex notation for all the samples in our training set we can express the gradient of the cost function with respect to each parameter. For the weight case:\n",
        "\n",
        "$$ \\frac{\\partial J(\\theta)}{\\partial \\theta_j} = \\frac{1}{m} \\sum_{i=1}^m (z_\\theta(x^{(i)}) - y^{(i)})x_j^{(i)}. $$\n",
        "\n",
        "And for the bias case:\n",
        "\n",
        "$$ \\frac{\\partial J(\\theta)}{\\partial \\theta_0} = \\frac{1}{m} \\sum_{i=1}^m (z_\\theta(x^{(i)}) - y^{(i)}). $$\n",
        "\n",
        "With this two formulas now we can use these gradients to update the parameters in the gradient descent algorithm."
      ]
    },
    {
      "cell_type": "markdown",
      "metadata": {
        "id": "DAEMpXTohJ42"
      },
      "source": [
        "**The full algorithm is:**\n",
        "1. Initialize the weights randomly.\n",
        "2. Calculate the gradients of cost function w.r.t parameters.\n",
        "3. Update the weights by $ \\theta_j \\leftarrow \\theta_j - \\alpha \\frac{\\partial}{\\partial\\theta_j}J(\\theta). $\n",
        "4. Update the bias by $ \\theta_0 \\leftarrow \\theta_0 - \\alpha \\frac{\\partial}{\\partial \\theta_0}J(\\theta). $\n",
        "5. Repeat until value of cost function does not change or to a pre-defined number of iterations."
      ]
    },
    {
      "cell_type": "markdown",
      "metadata": {
        "id": "RdGPd_d2hJ42"
      },
      "source": [
        "Write a function for the cost and one for its derivative with respect to the weights and one with respect to the bias. Note that the derivative function will return the number of values corresponing the the number of weights that you have. Also note that we are only doing this for one training point."
      ]
    },
    {
      "cell_type": "code",
      "execution_count": null,
      "metadata": {
        "id": "OzHbUSF5hJ42"
      },
      "outputs": [],
      "source": [
        "\n",
        "def cost_function(y, x, bias, weights):\n",
        "    \"\"\" param y: Ground truth label for measurements\n",
        "        param x: vector containing measurements. x = [x1, x2]\n",
        "        param bias: single value\n",
        "        param weight: vector containing model weights. weights= [w1,w2]\n",
        "\n",
        "        return: value of the cost function. In this case BCE\n",
        "    \"\"\"\n",
        "    m = len(y)\n",
        "\n",
        "    z = bias + weights[0] * x[0] + weights[1] * x[1]\n",
        "    a = 1 / (1 + 2.718281828459045 ** (-z))\n",
        "\n",
        "    # Reshape y to a column vector if it's a 1D array\n",
        "    y = y.reshape((-1, 1))\n",
        "\n",
        "    cost = -(1/m) * np.sum(y * np.log(a) + (1 - y) * np.log(1 - a))\n",
        "\n",
        "    return cost"
      ]
    },
    {
      "cell_type": "code",
      "execution_count": null,
      "metadata": {
        "id": "Oyx89vw_hJ42"
      },
      "outputs": [],
      "source": [
        "def derivative_weights(y, x, bias, weights):\n",
        "    \"\"\" param y: Ground truth label for measurements\n",
        "        param x: vector containing measurements. x = [x1, x2]\n",
        "        param bias: single value\n",
        "        param weight: vector containing model weights. weights= [w1,w2]\n",
        "\n",
        "        return: derivative of cost function with respect to the weights, dw = [dw1, dw2]\n",
        "    \"\"\"\n",
        "    m = len(y)\n",
        "\n",
        "    z = bias + np.dot(x, weights)\n",
        "    a = 1 / (1 + np.exp(-z))\n",
        "\n",
        "    cost_deriv = -(1/m) * np.dot(x.T, y - a)\n",
        "\n",
        "    return cost_deriv"
      ]
    },
    {
      "cell_type": "code",
      "execution_count": null,
      "metadata": {
        "id": "15Iz03b4hJ42"
      },
      "outputs": [],
      "source": [
        "def derivative_bias(y, x, bias, weights):\n",
        "    \"\"\" param y: Ground truth label for measurements\n",
        "        param x: vector containing measurements. x = [x1, x2]\n",
        "        param bias: single value\n",
        "        param weight: vector containing model weights. weights= [w1,w2]\n",
        "\n",
        "        return: derivative of cost function with respect to the bias\n",
        "    \"\"\"\n",
        "    m = len(y)\n",
        "\n",
        "    z = bias + np.dot(x, weights)\n",
        "    a = 1 / (1 + np.exp(-z))\n",
        "\n",
        "    cost_deriv = -(1/m) * np.sum(y - a)\n",
        "\n",
        "    return cost_deriv"
      ]
    },
    {
      "cell_type": "markdown",
      "metadata": {
        "id": "hQYB_SlUhJ43"
      },
      "source": [
        "Finally lets fit the logistic regression model with gradient descent across all training data points. As we saw before, gradient descent works by, at each iteration, average the total cost and the derivatives on over the full training set.\n",
        "\n",
        "Implement gradient descent for logistic regression. Experiment with different learning rates and number of iterations to see if you get differnt solutions."
      ]
    },
    {
      "cell_type": "code",
      "execution_count": null,
      "metadata": {
        "id": "-Hq-WIZghJ43",
        "colab": {
          "base_uri": "https://localhost:8080/"
        },
        "outputId": "5cf4b732-127f-4ef4-dbfd-9989c46cd033"
      },
      "outputs": [
        {
          "output_type": "stream",
          "name": "stdout",
          "text": [
            "iteration:  999  cost:  0.05663738983971574\n"
          ]
        }
      ],
      "source": [
        "lr = 0.05 # <-- specify learning rate\n",
        "\n",
        "# Initialize weights and bias as random\n",
        "bias = np.random.normal()\n",
        "weights = np.random.normal(size = len(x[0]))\n",
        "\n",
        "\n",
        "number_of_iterations = 1000 # <-- number of iterations to perform gradient descent\n",
        "\n",
        "for it in range(number_of_iterations):\n",
        "# .. Code for gradient descent for logistic regression\n",
        "\n",
        "    db = derivative_bias(y, x, bias, weights)\n",
        "    dw = derivative_weights(y, x, bias, weights)\n",
        "\n",
        "    bias -= lr * db\n",
        "    weights -= lr * dw\n",
        "\n",
        "    total_cost = np.sum(cost_function(y, x, bias, weights))\n",
        "\n",
        "    cost = total_cost / len(y)\n",
        "\n",
        "    clear_output(wait=True) # This is used to clear the output for cleaner printing, can be removed if it causes trouble.\n",
        "    print('iteration: ', it, ' cost: ', cost) # In this case the variable for the current cost is called \"cost\""
      ]
    },
    {
      "cell_type": "code",
      "execution_count": null,
      "metadata": {
        "id": "ElOHbuUJhJ43",
        "colab": {
          "base_uri": "https://localhost:8080/"
        },
        "outputId": "e68d4a5d-faec-4450-dbd7-3d6a58a58c31"
      },
      "outputs": [
        {
          "output_type": "stream",
          "name": "stdout",
          "text": [
            "Accuracy:  0.99\n"
          ]
        }
      ],
      "source": [
        "predicted = []\n",
        "for i in range(len(x)):\n",
        "    yhat = z_x(x[i], bias, weights)\n",
        "    predicted.append(round(yhat))\n",
        "\n",
        "print('Accuracy: ', np.sum(np.equal(y,predicted)) / len(predicted))"
      ]
    },
    {
      "cell_type": "markdown",
      "metadata": {
        "id": "znnhX5PhhJ43"
      },
      "source": [
        "Let us plot the decision boundary for the new weights:"
      ]
    },
    {
      "cell_type": "code",
      "execution_count": null,
      "metadata": {
        "id": "LuwgFD3RhJ43",
        "colab": {
          "base_uri": "https://localhost:8080/",
          "height": 433
        },
        "outputId": "a1a1a196-968c-4d61-de1d-6e0893f75413"
      },
      "outputs": [
        {
          "output_type": "display_data",
          "data": {
            "text/plain": [
              "<Figure size 640x480 with 1 Axes>"
            ],
            "image/png": "[encoded data removed]"
          },
          "metadata": {}
        }
      ],
      "source": [
        "x_values = x[:,0]\n",
        "y_values = - (bias + weights[0]*x_values) / weights[1]\n",
        "\n",
        "plt.figure()\n",
        "for label in np.unique(y):\n",
        "    plt.scatter(x[:,0][y==label],x[:,1][y==label], label = data.target_names[label])\n",
        "plt.plot(x_values, y_values, label='Decision Boundary')\n",
        "plt.legend()\n",
        "plt.show()"
      ]
    }
  ],
  "metadata": {
    "kernelspec": {
      "display_name": "Python 3 (ipykernel)",
      "language": "python",
      "name": "python3"
    },
    "language_info": {
      "codemirror_mode": {
        "name": "ipython",
        "version": 3
      },
      "file_extension": ".py",
      "mimetype": "text/x-python",
      "name": "python",
      "nbconvert_exporter": "python",
      "pygments_lexer": "ipython3",
      "version": "3.9.12"
    },
    "vscode": {
      "interpreter": {
        "hash": "674b33fde229fb172653676d8ba5a214aa9d96adab6da7eba1052cbd6e4ad820"
      }
    },
    "colab": {
      "provenance": []
    }
  },
  "nbformat": 4,
  "nbformat_minor": 0
}