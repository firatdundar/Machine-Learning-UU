{
  "cells": [
    {
      "cell_type": "markdown",
      "metadata": {
        "id": "iMdbFKlPYv3B"
      },
      "source": [
        "# Tweet classification with naive bayes\n",
        "\n",
        "For this notebook we are going to implement a naive bayes classifier for classifying positive or negative based on the words in the tweet. Recall that for two events A and B the bayes theorem says\n",
        "\n",
        "$$ P(A|B) = \\frac{P(B|A)P(A)}{P(B)} $$\n",
        "\n",
        "where P(A) and P(B) is the ***class probabilities*** and P(B|A) is called ***conditional probabilities***. this gives us the probability of A happening, given that B has occurred. So as an example if we want to find the probability of \"is this a positive tweet given that it contains the word \"good\" \" we will obtain the following\n",
        "\n",
        "$$ P(\\text{\"positive\"}|\\text{\"good\" in tweet}) = \\frac{P(\"\\text{\"good\" in tweet}|\\text{\"positive\"})P(\\text{\"positive\"})}{P(\"\\text{\"good\" in tweet})} $$\n",
        "\n",
        "This means that to find the probability of \"is this a positive tweet given that it contains the word \"good\" \" we need the probability of \"good\" being in a positive tweet, the probability of a tweet being positive and the probability of \"good\" being in a tweet.\n",
        "\n",
        "Similarly, if we want to obtain the opposite \"is this a negative tweet given that it contains the word \"boring\" \"\n",
        "we get\n",
        "\n",
        "$$ P(\\text{\"negative\"}|\\text{\"boring\" in tweet}) = \\frac{P(\\text{\"boring\" in tweet}|\\text{\"negative\"})P(\\text{\"negative\"})}{P(\\text{\"boring\" in tweet})} $$\n",
        "\n",
        "where we need the probability of \"boring\" being in a negative tweet, the probability of a tweet negative being and the probability of \"boring\" being in a tweet.\n",
        "\n",
        "We can now build a classifier where we compare those two probabilities and whichever is the larger one it's classified as\n",
        "\n",
        "if P(\"positive\"|\"good\" in tweet) $>$ P(\"negative\"|\"boring\" in tweet)\n",
        "    \n",
        "   Tweet is positive\n",
        "\n",
        "else\n",
        "   \n",
        "   Tweet is negative\n",
        "\n",
        "Now let's expand this to handle multiple features and put the Naive assumption into bayes theorem. This means that if features are independent we have\n",
        "\n",
        "$$ P(A,B) = P(A)P(B) $$\n",
        "\n",
        "This gives us:\n",
        "\n",
        "$$ P(A|b_1,b_2,...,b_n) = \\frac{P(b_1|A)P(b_2|A)...P(b_n|A)P(A)}{P(b_1)P(b_2)...P(b_n)} $$\n",
        "\n",
        "or\n",
        "\n",
        "$$ P(A|b_1,b_2,...,b_n) = \\frac{\\prod_i^nP(b_i|A)P(A)}{P(b_1)P(b_2)...P(b_n)} $$\n",
        "\n",
        "\n",
        "So with our previous example expanded with more words \"is this a positive tweet given that it contains the word \"good\" and \"interesting\" \" gives us\n",
        "\n",
        "$$ P(\\text{\"positive\"}|\\text{\"good\", \"interesting\" in tweet}) = \\frac{P(\\text{\"good\" in tweet}|\\text{\"positive\"})P(\\text{\"interesting\" in tweet}|\\text{\"positive\"})P(\\text{\"positive\"})}{P(\\text{\"good\" in tweet})P(\\text{\"interesting\" in tweet})} $$\n",
        "\n",
        "As you can see the denominator remains constant which means we can remove it and the final classifier end up\n",
        "\n",
        "$$y = argmax_A P(A)\\prod_i^nP(b_i|A) $$"
      ]
    },
    {
      "cell_type": "code",
      "execution_count": null,
      "metadata": {
        "ExecuteTime": {
          "end_time": "2024-01-07T13:37:14.983555600Z",
          "start_time": "2024-01-07T13:37:13.641527800Z"
        },
        "id": "jWAsywuXYv3C"
      },
      "outputs": [],
      "source": [
        "#stuff to import\n",
        "import pandas as pd\n",
        "import numpy as np\n",
        "from sklearn.model_selection import train_test_split"
      ]
    },
    {
      "cell_type": "markdown",
      "metadata": {
        "id": "G42b6YmmYv3D"
      },
      "source": [
        "#### Load the data"
      ]
    },
    {
      "cell_type": "code",
      "execution_count": null,
      "metadata": {
        "ExecuteTime": {
          "end_time": "2024-01-07T13:59:08.449137900Z",
          "start_time": "2024-01-07T13:59:07.974610Z"
        },
        "colab": {
          "base_uri": "https://localhost:8080/",
          "height": 423
        },
        "id": "iqI-WEs6Yv3D",
        "outputId": "7cebe39c-c97c-4663-be7b-8f7451160412"
      },
      "outputs": [
        {
          "output_type": "execute_result",
          "data": {
            "text/plain": [
              "        Unnamed: 0  sentiment  \\\n",
              "0                0          0   \n",
              "1                1          0   \n",
              "2                2          1   \n",
              "3                3          0   \n",
              "4                4          0   \n",
              "...            ...        ...   \n",
              "199374      199995          1   \n",
              "199375      199996          1   \n",
              "199376      199997          0   \n",
              "199377      199998          1   \n",
              "199378      199999          1   \n",
              "\n",
              "                                                    tweet  \\\n",
              "0       Hanging out with my friend waiting for a rain ...   \n",
              "1                        yesdir... layin not feelin good    \n",
              "2                                       Hae a nice night    \n",
              "3                   Tay...where are you? miss you SO bad    \n",
              "4                                   @NeilMcDaid shizer!     \n",
              "...                                                   ...   \n",
              "199374            Eating cobb salad w my Patricia at CF.    \n",
              "199375  @hallowed_ground ever been to fremont? You cou...   \n",
              "199376  @StacyLynn1985 as far as anything to scrape th...   \n",
              "199377  ksh scripting today to produce html code to di...   \n",
              "199378               @frelle  Ohhh I've love a Chai too!    \n",
              "\n",
              "                                         processed_tweets  \n",
              "0       anging friend waiting rain band looking huge s...  \n",
              "1                                 esdir layin feelin good  \n",
              "2                                              nice night  \n",
              "3                                            aywhere miss  \n",
              "4                                       neilmcdaid shizer  \n",
              "...                                                   ...  \n",
              "199374                  ating cobb salad patricia compare  \n",
              "199375             hallowedground ever fremont could help  \n",
              "199376           stacylynn1985 anything scrape teeth clue  \n",
              "199377  scripting today produce html code display pgra...  \n",
              "199378                              frelle ohhh love chai  \n",
              "\n",
              "[199379 rows x 4 columns]"
            ],
            "text/html": [
              "\n",
              "  <div id=\"df-f73fcd6c-6e62-4265-ae89-bfaea4fdecc5\" class=\"colab-df-container\">\n",
              "    <div>\n",
              "<style scoped>\n",
              "    .dataframe tbody tr th:only-of-type {\n",
              "        vertical-align: middle;\n",
              "    }\n",
              "\n",
              "    .dataframe tbody tr th {\n",
              "        vertical-align: top;\n",
              "    }\n",
              "\n",
              "    .dataframe thead th {\n",
              "        text-align: right;\n",
              "    }\n",
              "</style>\n",
              "<table border=\"1\" class=\"dataframe\">\n",
              "  <thead>\n",
              "    <tr style=\"text-align: right;\">\n",
              "      <th></th>\n",
              "      <th>Unnamed: 0</th>\n",
              "      <th>sentiment</th>\n",
              "      <th>tweet</th>\n",
              "      <th>processed_tweets</th>\n",
              "    </tr>\n",
              "  </thead>\n",
              "  <tbody>\n",
              "    <tr>\n",
              "      <th>0</th>\n",
              "      <td>0</td>\n",
              "      <td>0</td>\n",
              "      <td>Hanging out with my friend waiting for a rain ...</td>\n",
              "      <td>anging friend waiting rain band looking huge s...</td>\n",
              "    </tr>\n",
              "    <tr>\n",
              "      <th>1</th>\n",
              "      <td>1</td>\n",
              "      <td>0</td>\n",
              "      <td>yesdir... layin not feelin good</td>\n",
              "      <td>esdir layin feelin good</td>\n",
              "    </tr>\n",
              "    <tr>\n",
              "      <th>2</th>\n",
              "      <td>2</td>\n",
              "      <td>1</td>\n",
              "      <td>Hae a nice night</td>\n",
              "      <td>nice night</td>\n",
              "    </tr>\n",
              "    <tr>\n",
              "      <th>3</th>\n",
              "      <td>3</td>\n",
              "      <td>0</td>\n",
              "      <td>Tay...where are you? miss you SO bad</td>\n",
              "      <td>aywhere miss</td>\n",
              "    </tr>\n",
              "    <tr>\n",
              "      <th>4</th>\n",
              "      <td>4</td>\n",
              "      <td>0</td>\n",
              "      <td>@NeilMcDaid shizer!</td>\n",
              "      <td>neilmcdaid shizer</td>\n",
              "    </tr>\n",
              "    <tr>\n",
              "      <th>...</th>\n",
              "      <td>...</td>\n",
              "      <td>...</td>\n",
              "      <td>...</td>\n",
              "      <td>...</td>\n",
              "    </tr>\n",
              "    <tr>\n",
              "      <th>199374</th>\n",
              "      <td>199995</td>\n",
              "      <td>1</td>\n",
              "      <td>Eating cobb salad w my Patricia at CF.</td>\n",
              "      <td>ating cobb salad patricia compare</td>\n",
              "    </tr>\n",
              "    <tr>\n",
              "      <th>199375</th>\n",
              "      <td>199996</td>\n",
              "      <td>1</td>\n",
              "      <td>@hallowed_ground ever been to fremont? You cou...</td>\n",
              "      <td>hallowedground ever fremont could help</td>\n",
              "    </tr>\n",
              "    <tr>\n",
              "      <th>199376</th>\n",
              "      <td>199997</td>\n",
              "      <td>0</td>\n",
              "      <td>@StacyLynn1985 as far as anything to scrape th...</td>\n",
              "      <td>stacylynn1985 anything scrape teeth clue</td>\n",
              "    </tr>\n",
              "    <tr>\n",
              "      <th>199377</th>\n",
              "      <td>199998</td>\n",
              "      <td>1</td>\n",
              "      <td>ksh scripting today to produce html code to di...</td>\n",
              "      <td>scripting today produce html code display pgra...</td>\n",
              "    </tr>\n",
              "    <tr>\n",
              "      <th>199378</th>\n",
              "      <td>199999</td>\n",
              "      <td>1</td>\n",
              "      <td>@frelle  Ohhh I've love a Chai too!</td>\n",
              "      <td>frelle ohhh love chai</td>\n",
              "    </tr>\n",
              "  </tbody>\n",
              "</table>\n",
              "<p>199379 rows × 4 columns</p>\n",
              "</div>\n",
              "    <div class=\"colab-df-buttons\">\n",
              "\n",
              "  <div class=\"colab-df-container\">\n",
              "    <button class=\"colab-df-convert\" onclick=\"convertToInteractive('df-f73fcd6c-6e62-4265-ae89-bfaea4fdecc5')\"\n",
              "            title=\"Convert this dataframe to an interactive table.\"\n",
              "            style=\"display:none;\">\n",
              "\n",
              "  <svg xmlns=\"http://www.w3.org/2000/svg\" height=\"24px\" viewBox=\"0 -960 960 960\">\n",
              "    <path d=\"M120-120v-720h720v720H120Zm60-500h600v-160H180v160Zm220 220h160v-160H400v160Zm0 220h160v-160H400v160ZM180-400h160v-160H180v160Zm440 0h160v-160H620v160ZM180-180h160v-160H180v160Zm440 0h160v-160H620v160Z\"/>\n",
              "  </svg>\n",
              "    </button>\n",
              "\n",
              "  <style>\n",
              "    .colab-df-container {\n",
              "      display:flex;\n",
              "      gap: 12px;\n",
              "    }\n",
              "\n",
              "    .colab-df-convert {\n",
              "      background-color: #E8F0FE;\n",
              "      border: none;\n",
              "      border-radius: 50%;\n",
              "      cursor: pointer;\n",
              "      display: none;\n",
              "      fill: #1967D2;\n",
              "      height: 32px;\n",
              "      padding: 0 0 0 0;\n",
              "      width: 32px;\n",
              "    }\n",
              "\n",
              "    .colab-df-convert:hover {\n",
              "      background-color: #E2EBFA;\n",
              "      box-shadow: 0px 1px 2px rgba(60, 64, 67, 0.3), 0px 1px 3px 1px rgba(60, 64, 67, 0.15);\n",
              "      fill: #174EA6;\n",
              "    }\n",
              "\n",
              "    .colab-df-buttons div {\n",
              "      margin-bottom: 4px;\n",
              "    }\n",
              "\n",
              "    [theme=dark] .colab-df-convert {\n",
              "      background-color: #3B4455;\n",
              "      fill: #D2E3FC;\n",
              "    }\n",
              "\n",
              "    [theme=dark] .colab-df-convert:hover {\n",
              "      background-color: #434B5C;\n",
              "      box-shadow: 0px 1px 3px 1px rgba(0, 0, 0, 0.15);\n",
              "      filter: drop-shadow(0px 1px 2px rgba(0, 0, 0, 0.3));\n",
              "      fill: #FFFFFF;\n",
              "    }\n",
              "  </style>\n",
              "\n",
              "    <script>\n",
              "      const buttonEl =\n",
              "        document.querySelector('#df-f73fcd6c-6e62-4265-ae89-bfaea4fdecc5 button.colab-df-convert');\n",
              "      buttonEl.style.display =\n",
              "        google.colab.kernel.accessAllowed ? 'block' : 'none';\n",
              "\n",
              "      async function convertToInteractive(key) {\n",
              "        const element = document.querySelector('#df-f73fcd6c-6e62-4265-ae89-bfaea4fdecc5');\n",
              "        const dataTable =\n",
              "          await google.colab.kernel.invokeFunction('convertToInteractive',\n",
              "                                                    [key], {});\n",
              "        if (!dataTable) return;\n",
              "\n",
              "        const docLinkHtml = 'Like what you see? Visit the ' +\n",
              "          '<a target=\"_blank\" href=https://colab.research.google.com/notebooks/data_table.ipynb>data table notebook</a>'\n",
              "          + ' to learn more about interactive tables.';\n",
              "        element.innerHTML = '';\n",
              "        dataTable['output_type'] = 'display_data';\n",
              "        await google.colab.output.renderOutput(dataTable, element);\n",
              "        const docLink = document.createElement('div');\n",
              "        docLink.innerHTML = docLinkHtml;\n",
              "        element.appendChild(docLink);\n",
              "      }\n",
              "    </script>\n",
              "  </div>\n",
              "\n",
              "\n",
              "<div id=\"df-2d9d7624-74e4-42fd-a5c7-3470e2195bd9\">\n",
              "  <button class=\"colab-df-quickchart\" onclick=\"quickchart('df-2d9d7624-74e4-42fd-a5c7-3470e2195bd9')\"\n",
              "            title=\"Suggest charts\"\n",
              "            style=\"display:none;\">\n",
              "\n",
              "<svg xmlns=\"http://www.w3.org/2000/svg\" height=\"24px\"viewBox=\"0 0 24 24\"\n",
              "     width=\"24px\">\n",
              "    <g>\n",
              "        <path d=\"M19 3H5c-1.1 0-2 .9-2 2v14c0 1.1.9 2 2 2h14c1.1 0 2-.9 2-2V5c0-1.1-.9-2-2-2zM9 17H7v-7h2v7zm4 0h-2V7h2v10zm4 0h-2v-4h2v4z\"/>\n",
              "    </g>\n",
              "</svg>\n",
              "  </button>\n",
              "\n",
              "<style>\n",
              "  .colab-df-quickchart {\n",
              "      --bg-color: #E8F0FE;\n",
              "      --fill-color: #1967D2;\n",
              "      --hover-bg-color: #E2EBFA;\n",
              "      --hover-fill-color: #174EA6;\n",
              "      --disabled-fill-color: #AAA;\n",
              "      --disabled-bg-color: #DDD;\n",
              "  }\n",
              "\n",
              "  [theme=dark] .colab-df-quickchart {\n",
              "      --bg-color: #3B4455;\n",
              "      --fill-color: #D2E3FC;\n",
              "      --hover-bg-color: #434B5C;\n",
              "      --hover-fill-color: #FFFFFF;\n",
              "      --disabled-bg-color: #3B4455;\n",
              "      --disabled-fill-color: #666;\n",
              "  }\n",
              "\n",
              "  .colab-df-quickchart {\n",
              "    background-color: var(--bg-color);\n",
              "    border: none;\n",
              "    border-radius: 50%;\n",
              "    cursor: pointer;\n",
              "    display: none;\n",
              "    fill: var(--fill-color);\n",
              "    height: 32px;\n",
              "    padding: 0;\n",
              "    width: 32px;\n",
              "  }\n",
              "\n",
              "  .colab-df-quickchart:hover {\n",
              "    background-color: var(--hover-bg-color);\n",
              "    box-shadow: 0 1px 2px rgba(60, 64, 67, 0.3), 0 1px 3px 1px rgba(60, 64, 67, 0.15);\n",
              "    fill: var(--button-hover-fill-color);\n",
              "  }\n",
              "\n",
              "  .colab-df-quickchart-complete:disabled,\n",
              "  .colab-df-quickchart-complete:disabled:hover {\n",
              "    background-color: var(--disabled-bg-color);\n",
              "    fill: var(--disabled-fill-color);\n",
              "    box-shadow: none;\n",
              "  }\n",
              "\n",
              "  .colab-df-spinner {\n",
              "    border: 2px solid var(--fill-color);\n",
              "    border-color: transparent;\n",
              "    border-bottom-color: var(--fill-color);\n",
              "    animation:\n",
              "      spin 1s steps(1) infinite;\n",
              "  }\n",
              "\n",
              "  @keyframes spin {\n",
              "    0% {\n",
              "      border-color: transparent;\n",
              "      border-bottom-color: var(--fill-color);\n",
              "      border-left-color: var(--fill-color);\n",
              "    }\n",
              "    20% {\n",
              "      border-color: transparent;\n",
              "      border-left-color: var(--fill-color);\n",
              "      border-top-color: var(--fill-color);\n",
              "    }\n",
              "    30% {\n",
              "      border-color: transparent;\n",
              "      border-left-color: var(--fill-color);\n",
              "      border-top-color: var(--fill-color);\n",
              "      border-right-color: var(--fill-color);\n",
              "    }\n",
              "    40% {\n",
              "      border-color: transparent;\n",
              "      border-right-color: var(--fill-color);\n",
              "      border-top-color: var(--fill-color);\n",
              "    }\n",
              "    60% {\n",
              "      border-color: transparent;\n",
              "      border-right-color: var(--fill-color);\n",
              "    }\n",
              "    80% {\n",
              "      border-color: transparent;\n",
              "      border-right-color: var(--fill-color);\n",
              "      border-bottom-color: var(--fill-color);\n",
              "    }\n",
              "    90% {\n",
              "      border-color: transparent;\n",
              "      border-bottom-color: var(--fill-color);\n",
              "    }\n",
              "  }\n",
              "</style>\n",
              "\n",
              "  <script>\n",
              "    async function quickchart(key) {\n",
              "      const quickchartButtonEl =\n",
              "        document.querySelector('#' + key + ' button');\n",
              "      quickchartButtonEl.disabled = true;  // To prevent multiple clicks.\n",
              "      quickchartButtonEl.classList.add('colab-df-spinner');\n",
              "      try {\n",
              "        const charts = await google.colab.kernel.invokeFunction(\n",
              "            'suggestCharts', [key], {});\n",
              "      } catch (error) {\n",
              "        console.error('Error during call to suggestCharts:', error);\n",
              "      }\n",
              "      quickchartButtonEl.classList.remove('colab-df-spinner');\n",
              "      quickchartButtonEl.classList.add('colab-df-quickchart-complete');\n",
              "    }\n",
              "    (() => {\n",
              "      let quickchartButtonEl =\n",
              "        document.querySelector('#df-2d9d7624-74e4-42fd-a5c7-3470e2195bd9 button');\n",
              "      quickchartButtonEl.style.display =\n",
              "        google.colab.kernel.accessAllowed ? 'block' : 'none';\n",
              "    })();\n",
              "  </script>\n",
              "</div>\n",
              "    </div>\n",
              "  </div>\n"
            ]
          },
          "metadata": {},
          "execution_count": 3
        }
      ],
      "source": [
        "tweets=pd.read_csv('data_for_theoretical_notebook_1.csv',encoding='latin')\n",
        "tweets"
      ]
    },
    {
      "cell_type": "markdown",
      "metadata": {
        "id": "rCaKjtXyYv3E"
      },
      "source": [
        "Now lets split the data into a training set and a test set using scikit-learns train_test_split function\n",
        "https://scikit-learn.org/stable/modules/generated/sklearn.model_selection.train_test_split.html"
      ]
    },
    {
      "cell_type": "code",
      "execution_count": null,
      "metadata": {
        "ExecuteTime": {
          "end_time": "2024-01-07T13:37:59.025504100Z",
          "start_time": "2024-01-07T13:37:59.020482200Z"
        },
        "id": "2yEgVD-8Yv3E"
      },
      "outputs": [],
      "source": [
        "tweets_data = tweets[\"processed_tweets\"]\n",
        "tweets_labels = tweets[\"sentiment\"]\n",
        "\n",
        "#Split data into train_tweets, test_tweets, train_labels and test_labels\n",
        "train_tweets, test_tweets, train_labels, test_labels = train_test_split(\n",
        "    tweets_data, tweets_labels, test_size=0.2, random_state=42\n",
        ")"
      ]
    },
    {
      "cell_type": "markdown",
      "metadata": {
        "id": "tNKoDVhqYv3E"
      },
      "source": [
        "What we need to build our classifier is \"probability of positive tweet\" P(pos) , \"probability of negative tweet\" P(neg), \"probability of word in tweet given tweet is positive\" P(w|pos) and \"probability of word in tweet given tweet is negative\" P(w|neg). Start by calculating the probability that a tweet is positive and negative respectively"
      ]
    },
    {
      "cell_type": "code",
      "execution_count": null,
      "metadata": {
        "id": "GU2II9wXYv3E"
      },
      "outputs": [],
      "source": [
        "total_tweets = len(tweets_labels)\n",
        "num_positive_tweets = sum(tweets_labels == 1)\n",
        "num_negative_tweets = sum(tweets_labels == 0)\n",
        "\n",
        "# Calculate probabilities\n",
        "P_pos = num_positive_tweets / total_tweets\n",
        "P_neg = num_negative_tweets / total_tweets"
      ]
    },
    {
      "cell_type": "markdown",
      "metadata": {
        "id": "LBZgiMpQYv3E"
      },
      "source": [
        "For P(w|pos), P(w|neg) we need to count how many tweets each word occur in. Count the number of tweets each word occurs in and store in the word counter. An entry in the word counter is for instance {'good': 'Pos':150, 'Neg': 10} meaning good occurs in 150 positive tweets and 10 negative tweets. Be aware that we are not interested in calculating multiple occurrences of the same word in the same tweet. Also, we change the labels from 0 for \"Negative\" and 1 for \"Positive\" to \"Neg\" and \"Pos\" respectively.For each word convert it to lower case. You can use Python's [lower](https://www.w3schools.com/python/ref_string_lower.asp). Another handy Python string method is [split](https://www.w3schools.com/python/ref_string_split.asp)."
      ]
    },
    {
      "cell_type": "code",
      "execution_count": null,
      "metadata": {
        "id": "Pqt7vMsWYv3E"
      },
      "outputs": [],
      "source": [
        "new_train_labels = train_labels.replace(0, \"Neg\", regex=True)\n",
        "final_train_labels = new_train_labels.replace(1, \"Pos\", regex=True)\n",
        "word_counter = {}\n",
        "for (tweet, label) in zip(train_tweets, final_train_labels):\n",
        "    # ... Count number of tweets each word occurs in and store in word_counter where an entry looks like ex. {'word': 'Pos':98, 'Neg':10}\n",
        "    words = tweet.lower().split()\n",
        "\n",
        "    unique_words = set(words)\n",
        "\n",
        "    for word in unique_words:\n",
        "        if word not in word_counter:\n",
        "            word_counter[word] = {'Pos': 0, 'Neg': 0}\n",
        "        word_counter[word][label] += 1\n"
      ]
    },
    {
      "cell_type": "markdown",
      "metadata": {
        "id": "r8a-fJ1eYv3E"
      },
      "source": [
        "Let's work with a smaller subset of words just to save up some time. Find the 1500 most occuring words in tweet data."
      ]
    },
    {
      "cell_type": "code",
      "execution_count": null,
      "metadata": {
        "id": "-CZ_qhZ7Yv3F"
      },
      "outputs": [],
      "source": [
        "nr_of_words_to_use = 1500\n",
        "popular_words = sorted(word_counter.items(), key=lambda x: x[1]['Pos'] + x[1]['Neg'], reverse=True)\n",
        "popular_words = [x[0] for x in popular_words[:nr_of_words_to_use]]"
      ]
    },
    {
      "cell_type": "markdown",
      "metadata": {
        "id": "0HwoqzKRYv3F"
      },
      "source": [
        "Now let's compute P(w|pos), P(w|neg) for the popular words"
      ]
    },
    {
      "cell_type": "code",
      "execution_count": null,
      "metadata": {
        "id": "wTcgR3zLYv3F"
      },
      "outputs": [],
      "source": [
        "P_w_given_pos = {}\n",
        "P_w_given_neg = {}\n",
        "for word in popular_words:\n",
        "\n",
        "    P_w_given_pos[word] = word_counter[word]['Pos']/total_tweets / P_pos\n",
        "    P_w_given_neg[word] = word_counter[word]['Neg']/total_tweets / P_neg"
      ]
    },
    {
      "cell_type": "code",
      "execution_count": null,
      "metadata": {
        "id": "aw-0pYtfYv3F"
      },
      "outputs": [],
      "source": [
        "classifier = {\n",
        "    'basis'  : popular_words,\n",
        "    'P(pos)'   : P_pos,\n",
        "    'P(neg)'   : P_neg,\n",
        "    'P(w|pos)' : P_w_given_pos,\n",
        "    'P(w|neg)' : P_w_given_neg\n",
        "    }"
      ]
    },
    {
      "cell_type": "markdown",
      "metadata": {
        "id": "okrgpX9IYv3F"
      },
      "source": [
        "#### Train and predict"
      ]
    },
    {
      "cell_type": "markdown",
      "metadata": {
        "id": "4LvZrJDUYv3F"
      },
      "source": [
        "Write a tweet_classifier function that takes your trained classifier and a tweet and returns wether it's about Positive or Negative using the popular words selected. Note that if there are words in the basis words in our classifier that are not in the tweet we have the opposite probabilities i.e P(w_1 occurs )* P(w_2 does not occur) * .... if w_1 occurs and w_2 does not occur. The function should return wether the tweet is Positive or Negative. i.e 'Pos' or 'Neg'."
      ]
    },
    {
      "cell_type": "code",
      "execution_count": null,
      "metadata": {
        "id": "cAUgI5vTYv3F"
      },
      "outputs": [],
      "source": [
        "def tweet_classifier(tweet, classifier_dict):\n",
        "    \"\"\" param tweet: string containing tweet message\n",
        "        param classifier: dict containing 'basis' - training words\n",
        "                                          'P(pos)' - class probabilities\n",
        "                                          'P(neg)' - class probabilities\n",
        "                                          'P(w|pos)' - conditional probabilities\n",
        "                                          'P(w|neg)' - conditional probabilities\n",
        "\n",
        "        return: either 'Pos' or 'Neg'\n",
        "    \"\"\"\n",
        "\n",
        "    basis_words = classifier_dict['basis']\n",
        "    P_pos = classifier_dict['P(pos)']\n",
        "    P_neg = classifier_dict['P(neg)']\n",
        "    P_w_given_pos = classifier_dict['P(w|pos)']\n",
        "    P_w_given_neg = classifier_dict['P(w|neg)']\n",
        "\n",
        "    words_in_tweet = tweet.lower().split()\n",
        "\n",
        "    prob_pos = P_pos\n",
        "    prob_neg = P_neg\n",
        "\n",
        "    for word in basis_words:\n",
        "        if word in words_in_tweet:\n",
        "            prob_pos *= P_w_given_pos[word]\n",
        "            prob_neg *= P_w_given_neg[word]\n",
        "        else:\n",
        "            prob_pos *= (1 - P_w_given_pos[word])\n",
        "            prob_neg *= (1 - P_w_given_neg[word])\n",
        "\n",
        "    return 'Pos' if prob_pos > prob_neg else 'Neg'\n",
        "# ... Code for classifying tweets using the naive bayes classifier"
      ]
    },
    {
      "cell_type": "code",
      "execution_count": null,
      "metadata": {
        "id": "LWkjNblNYv3F"
      },
      "outputs": [],
      "source": [
        "def test_classifier(classifier, test_tweets, test_labels):\n",
        "    total = len(test_tweets)\n",
        "    correct = 0\n",
        "    for (tweet,label) in zip(test_tweets, test_labels):\n",
        "        predicted = tweet_classifier(tweet,classifier)\n",
        "        if predicted == label:\n",
        "            correct = correct + 1\n",
        "    return(correct/total)"
      ]
    },
    {
      "cell_type": "code",
      "execution_count": null,
      "metadata": {
        "id": "mfEK0fmZYv3F"
      },
      "outputs": [],
      "source": [
        "new_test_labels = test_labels.replace(0, \"Neg\", regex=True)\n",
        "final_test_labels = new_test_labels.replace(1, \"Pos\", regex=True)"
      ]
    },
    {
      "cell_type": "code",
      "execution_count": null,
      "metadata": {
        "colab": {
          "base_uri": "https://localhost:8080/"
        },
        "id": "pY9mpL2zYv3F",
        "outputId": "70bb2152-634b-4fc3-e47f-dc3392ced31a"
      },
      "outputs": [
        {
          "output_type": "stream",
          "name": "stdout",
          "text": [
            "Accuracy: 0.7204\n"
          ]
        }
      ],
      "source": [
        "acc = test_classifier(classifier, test_tweets, final_test_labels)\n",
        "print(f\"Accuracy: {acc:.4f}\")"
      ]
    },
    {
      "cell_type": "markdown",
      "metadata": {
        "id": "Cidr6ybNYv3G"
      },
      "source": [
        "#### Optional work\n",
        "\n",
        "In basic sentiment analysis classifications we have 3 classes \"Positive\", \"Negative\" and \"Neutral\". Although because it is challenging to create the \"Neutral\" class. Try to improve the accuracy by filtering the dataset from the perspective of removing words that indicate neutrality."
      ]
    },
    {
      "cell_type": "code",
      "execution_count": null,
      "metadata": {
        "id": "VeAJVwCjYv3G"
      },
      "outputs": [],
      "source": []
    }
  ],
  "metadata": {
    "kernelspec": {
      "display_name": "Python 3 (ipykernel)",
      "language": "python",
      "name": "python3"
    },
    "language_info": {
      "codemirror_mode": {
        "name": "ipython",
        "version": 3
      },
      "file_extension": ".py",
      "mimetype": "text/x-python",
      "name": "python",
      "nbconvert_exporter": "python",
      "pygments_lexer": "ipython3",
      "version": "3.11.7"
    },
    "colab": {
      "provenance": []
    }
  },
  "nbformat": 4,
  "nbformat_minor": 0
}